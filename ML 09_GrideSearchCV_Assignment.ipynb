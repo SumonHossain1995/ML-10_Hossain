{
 "cells": [
  {
   "cell_type": "code",
   "execution_count": 1,
   "id": "351f0060",
   "metadata": {},
   "outputs": [
    {
     "data": {
      "text/html": [
       "<div>\n",
       "<style scoped>\n",
       "    .dataframe tbody tr th:only-of-type {\n",
       "        vertical-align: middle;\n",
       "    }\n",
       "\n",
       "    .dataframe tbody tr th {\n",
       "        vertical-align: top;\n",
       "    }\n",
       "\n",
       "    .dataframe thead th {\n",
       "        text-align: right;\n",
       "    }\n",
       "</style>\n",
       "<table border=\"1\" class=\"dataframe\">\n",
       "  <thead>\n",
       "    <tr style=\"text-align: right;\">\n",
       "      <th></th>\n",
       "      <th>region</th>\n",
       "      <th>age</th>\n",
       "      <th>sex</th>\n",
       "      <th>bmi</th>\n",
       "      <th>children</th>\n",
       "      <th>smoker</th>\n",
       "    </tr>\n",
       "  </thead>\n",
       "  <tbody>\n",
       "    <tr>\n",
       "      <th>0</th>\n",
       "      <td>southwest</td>\n",
       "      <td>19</td>\n",
       "      <td>female</td>\n",
       "      <td>27.900</td>\n",
       "      <td>0</td>\n",
       "      <td>yes</td>\n",
       "    </tr>\n",
       "    <tr>\n",
       "      <th>1</th>\n",
       "      <td>southeast</td>\n",
       "      <td>18</td>\n",
       "      <td>male</td>\n",
       "      <td>33.770</td>\n",
       "      <td>1</td>\n",
       "      <td>no</td>\n",
       "    </tr>\n",
       "    <tr>\n",
       "      <th>2</th>\n",
       "      <td>southeast</td>\n",
       "      <td>28</td>\n",
       "      <td>male</td>\n",
       "      <td>33.000</td>\n",
       "      <td>3</td>\n",
       "      <td>no</td>\n",
       "    </tr>\n",
       "    <tr>\n",
       "      <th>3</th>\n",
       "      <td>northwest</td>\n",
       "      <td>33</td>\n",
       "      <td>male</td>\n",
       "      <td>22.705</td>\n",
       "      <td>0</td>\n",
       "      <td>no</td>\n",
       "    </tr>\n",
       "    <tr>\n",
       "      <th>4</th>\n",
       "      <td>northwest</td>\n",
       "      <td>32</td>\n",
       "      <td>male</td>\n",
       "      <td>28.880</td>\n",
       "      <td>0</td>\n",
       "      <td>no</td>\n",
       "    </tr>\n",
       "  </tbody>\n",
       "</table>\n",
       "</div>"
      ],
      "text/plain": [
       "      region  age     sex     bmi  children smoker\n",
       "0  southwest   19  female  27.900         0    yes\n",
       "1  southeast   18    male  33.770         1     no\n",
       "2  southeast   28    male  33.000         3     no\n",
       "3  northwest   33    male  22.705         0     no\n",
       "4  northwest   32    male  28.880         0     no"
      ]
     },
     "execution_count": 1,
     "metadata": {},
     "output_type": "execute_result"
    }
   ],
   "source": [
    "import pandas as pd\n",
    "import numpy as np\n",
    "df=pd.read_csv('ML 08_Smoking Data.csv')\n",
    "df.head()"
   ]
  },
  {
   "cell_type": "code",
   "execution_count": 2,
   "id": "7a3f526a",
   "metadata": {},
   "outputs": [
    {
     "name": "stdout",
     "output_type": "stream",
     "text": [
      "<class 'pandas.core.frame.DataFrame'>\n",
      "RangeIndex: 1338 entries, 0 to 1337\n",
      "Data columns (total 6 columns):\n",
      " #   Column    Non-Null Count  Dtype  \n",
      "---  ------    --------------  -----  \n",
      " 0   region    1338 non-null   object \n",
      " 1   age       1338 non-null   int64  \n",
      " 2   sex       1338 non-null   object \n",
      " 3   bmi       1338 non-null   float64\n",
      " 4   children  1338 non-null   int64  \n",
      " 5   smoker    1338 non-null   object \n",
      "dtypes: float64(1), int64(2), object(3)\n",
      "memory usage: 62.8+ KB\n"
     ]
    }
   ],
   "source": [
    "df.info()"
   ]
  },
  {
   "cell_type": "markdown",
   "id": "8879b028",
   "metadata": {},
   "source": [
    "# Encoding (using Label Encoder)"
   ]
  },
  {
   "cell_type": "code",
   "execution_count": 3,
   "id": "23a1e4a0",
   "metadata": {},
   "outputs": [],
   "source": [
    "from sklearn.preprocessing import LabelEncoder\n",
    "le=LabelEncoder()"
   ]
  },
  {
   "cell_type": "code",
   "execution_count": 4,
   "id": "d9ee5972",
   "metadata": {},
   "outputs": [
    {
     "data": {
      "text/html": [
       "<div>\n",
       "<style scoped>\n",
       "    .dataframe tbody tr th:only-of-type {\n",
       "        vertical-align: middle;\n",
       "    }\n",
       "\n",
       "    .dataframe tbody tr th {\n",
       "        vertical-align: top;\n",
       "    }\n",
       "\n",
       "    .dataframe thead th {\n",
       "        text-align: right;\n",
       "    }\n",
       "</style>\n",
       "<table border=\"1\" class=\"dataframe\">\n",
       "  <thead>\n",
       "    <tr style=\"text-align: right;\">\n",
       "      <th></th>\n",
       "      <th>region</th>\n",
       "      <th>age</th>\n",
       "      <th>sex</th>\n",
       "      <th>bmi</th>\n",
       "      <th>children</th>\n",
       "      <th>smoker</th>\n",
       "    </tr>\n",
       "  </thead>\n",
       "  <tbody>\n",
       "    <tr>\n",
       "      <th>0</th>\n",
       "      <td>3</td>\n",
       "      <td>19</td>\n",
       "      <td>0</td>\n",
       "      <td>27.900</td>\n",
       "      <td>0</td>\n",
       "      <td>1</td>\n",
       "    </tr>\n",
       "    <tr>\n",
       "      <th>1</th>\n",
       "      <td>2</td>\n",
       "      <td>18</td>\n",
       "      <td>1</td>\n",
       "      <td>33.770</td>\n",
       "      <td>1</td>\n",
       "      <td>0</td>\n",
       "    </tr>\n",
       "    <tr>\n",
       "      <th>2</th>\n",
       "      <td>2</td>\n",
       "      <td>28</td>\n",
       "      <td>1</td>\n",
       "      <td>33.000</td>\n",
       "      <td>3</td>\n",
       "      <td>0</td>\n",
       "    </tr>\n",
       "    <tr>\n",
       "      <th>3</th>\n",
       "      <td>1</td>\n",
       "      <td>33</td>\n",
       "      <td>1</td>\n",
       "      <td>22.705</td>\n",
       "      <td>0</td>\n",
       "      <td>0</td>\n",
       "    </tr>\n",
       "    <tr>\n",
       "      <th>4</th>\n",
       "      <td>1</td>\n",
       "      <td>32</td>\n",
       "      <td>1</td>\n",
       "      <td>28.880</td>\n",
       "      <td>0</td>\n",
       "      <td>0</td>\n",
       "    </tr>\n",
       "  </tbody>\n",
       "</table>\n",
       "</div>"
      ],
      "text/plain": [
       "   region  age  sex     bmi  children  smoker\n",
       "0       3   19    0  27.900         0       1\n",
       "1       2   18    1  33.770         1       0\n",
       "2       2   28    1  33.000         3       0\n",
       "3       1   33    1  22.705         0       0\n",
       "4       1   32    1  28.880         0       0"
      ]
     },
     "execution_count": 4,
     "metadata": {},
     "output_type": "execute_result"
    }
   ],
   "source": [
    "df.region=le.fit_transform(df.region)\n",
    "df.sex=le.fit_transform(df.sex)\n",
    "df.smoker=le.fit_transform(df.smoker)\n",
    "df.head()"
   ]
  },
  {
   "cell_type": "markdown",
   "id": "befd8a47",
   "metadata": {},
   "source": [
    "# Split the Data "
   ]
  },
  {
   "cell_type": "code",
   "execution_count": 5,
   "id": "34d2ea92",
   "metadata": {},
   "outputs": [],
   "source": [
    "from sklearn.model_selection import train_test_split\n",
    "xtrain,xtest,ytrain,ytest=train_test_split(df.drop('smoker',axis=1),df['smoker'],train_size=.70,random_state=42)"
   ]
  },
  {
   "cell_type": "markdown",
   "id": "f7c457ea",
   "metadata": {},
   "source": [
    "# Apply Decision Tree Classification "
   ]
  },
  {
   "cell_type": "code",
   "execution_count": 6,
   "id": "e8a7b6a9",
   "metadata": {},
   "outputs": [
    {
     "data": {
      "text/plain": [
       "0.6666666666666666"
      ]
     },
     "execution_count": 6,
     "metadata": {},
     "output_type": "execute_result"
    }
   ],
   "source": [
    "from sklearn.tree import DecisionTreeClassifier\n",
    "dtc = DecisionTreeClassifier()\n",
    "dtc.fit(xtrain,ytrain)\n",
    "dtc.score(xtest,ytest)   # mean accuracy"
   ]
  },
  {
   "cell_type": "markdown",
   "id": "e3b7ae38",
   "metadata": {},
   "source": [
    "# Apply Random Forest Classifier ML Model"
   ]
  },
  {
   "cell_type": "code",
   "execution_count": 7,
   "id": "a40f5a14",
   "metadata": {},
   "outputs": [
    {
     "data": {
      "text/plain": [
       "0.7860696517412935"
      ]
     },
     "execution_count": 7,
     "metadata": {},
     "output_type": "execute_result"
    }
   ],
   "source": [
    "from sklearn.ensemble import RandomForestClassifier\n",
    "rfc=RandomForestClassifier()\n",
    "rfc.fit(xtrain,ytrain)\n",
    "rfc.score(xtest,ytest)"
   ]
  },
  {
   "cell_type": "markdown",
   "id": "25d39f60",
   "metadata": {},
   "source": [
    "# Hyper Parameter Tuning (of Random Forest Classifier ML Model)"
   ]
  },
  {
   "cell_type": "markdown",
   "id": "c2ce073f",
   "metadata": {},
   "source": [
    "# Using Gride Search CV"
   ]
  },
  {
   "cell_type": "code",
   "execution_count": 8,
   "id": "d8f45759",
   "metadata": {},
   "outputs": [],
   "source": [
    "trees=np.random.randint(25,150,30)\n",
    "criterion=['gini','entropy']\n",
    "max_depth=np.random.randint(1,15,20)\n",
    "min_sample_split=[2,3,4]\n",
    "max_features=['sqrt' , 'log2']"
   ]
  },
  {
   "cell_type": "code",
   "execution_count": 9,
   "id": "9a345f38",
   "metadata": {},
   "outputs": [],
   "source": [
    "# param_grid\n",
    "ids={\n",
    "    'n_estimators' : trees,\n",
    "    'criterion' : criterion,\n",
    "    'max_depth' : max_depth,\n",
    "    'min_samples_split' : min_sample_split,\n",
    "    'max_features' : max_features\n",
    "}"
   ]
  },
  {
   "cell_type": "code",
   "execution_count": 10,
   "id": "8897861e",
   "metadata": {},
   "outputs": [],
   "source": [
    "from sklearn.model_selection import GridSearchCV\n",
    "gscv=GridSearchCV(rfc,ids,cv=3)"
   ]
  },
  {
   "cell_type": "code",
   "execution_count": 11,
   "id": "80ee7b3a",
   "metadata": {},
   "outputs": [],
   "source": [
    "gscv.fit(xtrain,ytrain)\n",
    "cv_result=pd.DataFrame(gscv.cv_results_)"
   ]
  },
  {
   "cell_type": "code",
   "execution_count": 12,
   "id": "368e593b",
   "metadata": {},
   "outputs": [
    {
     "data": {
      "text/html": [
       "<div>\n",
       "<style scoped>\n",
       "    .dataframe tbody tr th:only-of-type {\n",
       "        vertical-align: middle;\n",
       "    }\n",
       "\n",
       "    .dataframe tbody tr th {\n",
       "        vertical-align: top;\n",
       "    }\n",
       "\n",
       "    .dataframe thead th {\n",
       "        text-align: right;\n",
       "    }\n",
       "</style>\n",
       "<table border=\"1\" class=\"dataframe\">\n",
       "  <thead>\n",
       "    <tr style=\"text-align: right;\">\n",
       "      <th></th>\n",
       "      <th>mean_fit_time</th>\n",
       "      <th>std_fit_time</th>\n",
       "      <th>mean_score_time</th>\n",
       "      <th>std_score_time</th>\n",
       "      <th>param_criterion</th>\n",
       "      <th>param_max_depth</th>\n",
       "      <th>param_max_features</th>\n",
       "      <th>param_min_samples_split</th>\n",
       "      <th>param_n_estimators</th>\n",
       "      <th>params</th>\n",
       "      <th>split0_test_score</th>\n",
       "      <th>split1_test_score</th>\n",
       "      <th>split2_test_score</th>\n",
       "      <th>mean_test_score</th>\n",
       "      <th>std_test_score</th>\n",
       "      <th>rank_test_score</th>\n",
       "    </tr>\n",
       "  </thead>\n",
       "  <tbody>\n",
       "    <tr>\n",
       "      <th>0</th>\n",
       "      <td>0.206777</td>\n",
       "      <td>0.016758</td>\n",
       "      <td>0.020858</td>\n",
       "      <td>0.003834</td>\n",
       "      <td>gini</td>\n",
       "      <td>7</td>\n",
       "      <td>sqrt</td>\n",
       "      <td>2</td>\n",
       "      <td>107</td>\n",
       "      <td>{'criterion': 'gini', 'max_depth': 7, 'max_fea...</td>\n",
       "      <td>0.791667</td>\n",
       "      <td>0.782051</td>\n",
       "      <td>0.788462</td>\n",
       "      <td>0.787393</td>\n",
       "      <td>0.003997</td>\n",
       "      <td>2823</td>\n",
       "    </tr>\n",
       "    <tr>\n",
       "      <th>1</th>\n",
       "      <td>0.136700</td>\n",
       "      <td>0.014220</td>\n",
       "      <td>0.014181</td>\n",
       "      <td>0.001570</td>\n",
       "      <td>gini</td>\n",
       "      <td>7</td>\n",
       "      <td>sqrt</td>\n",
       "      <td>2</td>\n",
       "      <td>77</td>\n",
       "      <td>{'criterion': 'gini', 'max_depth': 7, 'max_fea...</td>\n",
       "      <td>0.791667</td>\n",
       "      <td>0.782051</td>\n",
       "      <td>0.788462</td>\n",
       "      <td>0.787393</td>\n",
       "      <td>0.003997</td>\n",
       "      <td>2823</td>\n",
       "    </tr>\n",
       "    <tr>\n",
       "      <th>2</th>\n",
       "      <td>0.074549</td>\n",
       "      <td>0.007853</td>\n",
       "      <td>0.010414</td>\n",
       "      <td>0.007364</td>\n",
       "      <td>gini</td>\n",
       "      <td>7</td>\n",
       "      <td>sqrt</td>\n",
       "      <td>2</td>\n",
       "      <td>47</td>\n",
       "      <td>{'criterion': 'gini', 'max_depth': 7, 'max_fea...</td>\n",
       "      <td>0.788462</td>\n",
       "      <td>0.772436</td>\n",
       "      <td>0.788462</td>\n",
       "      <td>0.783120</td>\n",
       "      <td>0.007555</td>\n",
       "      <td>3834</td>\n",
       "    </tr>\n",
       "    <tr>\n",
       "      <th>3</th>\n",
       "      <td>0.055090</td>\n",
       "      <td>0.001813</td>\n",
       "      <td>0.007336</td>\n",
       "      <td>0.000957</td>\n",
       "      <td>gini</td>\n",
       "      <td>7</td>\n",
       "      <td>sqrt</td>\n",
       "      <td>2</td>\n",
       "      <td>26</td>\n",
       "      <td>{'criterion': 'gini', 'max_depth': 7, 'max_fea...</td>\n",
       "      <td>0.788462</td>\n",
       "      <td>0.785256</td>\n",
       "      <td>0.782051</td>\n",
       "      <td>0.785256</td>\n",
       "      <td>0.002617</td>\n",
       "      <td>3415</td>\n",
       "    </tr>\n",
       "    <tr>\n",
       "      <th>4</th>\n",
       "      <td>0.146609</td>\n",
       "      <td>0.012798</td>\n",
       "      <td>0.013961</td>\n",
       "      <td>0.000841</td>\n",
       "      <td>gini</td>\n",
       "      <td>7</td>\n",
       "      <td>sqrt</td>\n",
       "      <td>2</td>\n",
       "      <td>79</td>\n",
       "      <td>{'criterion': 'gini', 'max_depth': 7, 'max_fea...</td>\n",
       "      <td>0.788462</td>\n",
       "      <td>0.782051</td>\n",
       "      <td>0.791667</td>\n",
       "      <td>0.787393</td>\n",
       "      <td>0.003997</td>\n",
       "      <td>2823</td>\n",
       "    </tr>\n",
       "  </tbody>\n",
       "</table>\n",
       "</div>"
      ],
      "text/plain": [
       "   mean_fit_time  std_fit_time  mean_score_time  std_score_time  \\\n",
       "0       0.206777      0.016758         0.020858        0.003834   \n",
       "1       0.136700      0.014220         0.014181        0.001570   \n",
       "2       0.074549      0.007853         0.010414        0.007364   \n",
       "3       0.055090      0.001813         0.007336        0.000957   \n",
       "4       0.146609      0.012798         0.013961        0.000841   \n",
       "\n",
       "  param_criterion param_max_depth param_max_features param_min_samples_split  \\\n",
       "0            gini               7               sqrt                       2   \n",
       "1            gini               7               sqrt                       2   \n",
       "2            gini               7               sqrt                       2   \n",
       "3            gini               7               sqrt                       2   \n",
       "4            gini               7               sqrt                       2   \n",
       "\n",
       "  param_n_estimators                                             params  \\\n",
       "0                107  {'criterion': 'gini', 'max_depth': 7, 'max_fea...   \n",
       "1                 77  {'criterion': 'gini', 'max_depth': 7, 'max_fea...   \n",
       "2                 47  {'criterion': 'gini', 'max_depth': 7, 'max_fea...   \n",
       "3                 26  {'criterion': 'gini', 'max_depth': 7, 'max_fea...   \n",
       "4                 79  {'criterion': 'gini', 'max_depth': 7, 'max_fea...   \n",
       "\n",
       "   split0_test_score  split1_test_score  split2_test_score  mean_test_score  \\\n",
       "0           0.791667           0.782051           0.788462         0.787393   \n",
       "1           0.791667           0.782051           0.788462         0.787393   \n",
       "2           0.788462           0.772436           0.788462         0.783120   \n",
       "3           0.788462           0.785256           0.782051         0.785256   \n",
       "4           0.788462           0.782051           0.791667         0.787393   \n",
       "\n",
       "   std_test_score  rank_test_score  \n",
       "0        0.003997             2823  \n",
       "1        0.003997             2823  \n",
       "2        0.007555             3834  \n",
       "3        0.002617             3415  \n",
       "4        0.003997             2823  "
      ]
     },
     "execution_count": 12,
     "metadata": {},
     "output_type": "execute_result"
    }
   ],
   "source": [
    "cv_result.head()"
   ]
  },
  {
   "cell_type": "code",
   "execution_count": 13,
   "id": "7fbc424c",
   "metadata": {},
   "outputs": [
    {
     "data": {
      "text/plain": [
       "0.7927350427350427"
      ]
     },
     "execution_count": 13,
     "metadata": {},
     "output_type": "execute_result"
    }
   ],
   "source": [
    "gscv.best_score_"
   ]
  },
  {
   "cell_type": "code",
   "execution_count": 14,
   "id": "2e945e26",
   "metadata": {},
   "outputs": [
    {
     "data": {
      "text/plain": [
       "{'criterion': 'entropy',\n",
       " 'max_depth': 4,\n",
       " 'max_features': 'sqrt',\n",
       " 'min_samples_split': 2,\n",
       " 'n_estimators': 59}"
      ]
     },
     "execution_count": 14,
     "metadata": {},
     "output_type": "execute_result"
    }
   ],
   "source": [
    "gscv.best_params_"
   ]
  },
  {
   "cell_type": "code",
   "execution_count": 25,
   "id": "860ab6f3",
   "metadata": {},
   "outputs": [],
   "source": [
    "rfc2=gscv.best_estimator_"
   ]
  },
  {
   "cell_type": "code",
   "execution_count": 16,
   "id": "14da9f0c",
   "metadata": {},
   "outputs": [
    {
     "data": {
      "text/plain": [
       "0.8034825870646766"
      ]
     },
     "execution_count": 16,
     "metadata": {},
     "output_type": "execute_result"
    }
   ],
   "source": [
    "rfc2.fit(xtrain, ytrain)\n",
    "rfc2.score(xtest, ytest)"
   ]
  }
 ],
 "metadata": {
  "kernelspec": {
   "display_name": "Python 3 (ipykernel)",
   "language": "python",
   "name": "python3"
  },
  "language_info": {
   "codemirror_mode": {
    "name": "ipython",
    "version": 3
   },
   "file_extension": ".py",
   "mimetype": "text/x-python",
   "name": "python",
   "nbconvert_exporter": "python",
   "pygments_lexer": "ipython3",
   "version": "3.9.7"
  }
 },
 "nbformat": 4,
 "nbformat_minor": 5
}
