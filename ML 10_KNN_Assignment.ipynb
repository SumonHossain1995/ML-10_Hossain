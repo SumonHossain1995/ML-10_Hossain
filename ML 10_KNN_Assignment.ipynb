{
 "cells": [
  {
   "cell_type": "markdown",
   "id": "bf4fd287",
   "metadata": {},
   "source": [
    "#          Step  01:"
   ]
  },
  {
   "cell_type": "markdown",
   "id": "ae9cc44e",
   "metadata": {},
   "source": [
    "# 1. Import Data set"
   ]
  },
  {
   "cell_type": "code",
   "execution_count": 1,
   "id": "801c3e04",
   "metadata": {},
   "outputs": [],
   "source": [
    "import pandas as pd\n",
    "import numpy as np"
   ]
  },
  {
   "cell_type": "code",
   "execution_count": 2,
   "id": "98a60173",
   "metadata": {},
   "outputs": [
    {
     "data": {
      "text/html": [
       "<div>\n",
       "<style scoped>\n",
       "    .dataframe tbody tr th:only-of-type {\n",
       "        vertical-align: middle;\n",
       "    }\n",
       "\n",
       "    .dataframe tbody tr th {\n",
       "        vertical-align: top;\n",
       "    }\n",
       "\n",
       "    .dataframe thead th {\n",
       "        text-align: right;\n",
       "    }\n",
       "</style>\n",
       "<table border=\"1\" class=\"dataframe\">\n",
       "  <thead>\n",
       "    <tr style=\"text-align: right;\">\n",
       "      <th></th>\n",
       "      <th>Gender</th>\n",
       "      <th>Height</th>\n",
       "      <th>Weight</th>\n",
       "    </tr>\n",
       "  </thead>\n",
       "  <tbody>\n",
       "    <tr>\n",
       "      <th>0</th>\n",
       "      <td>Male</td>\n",
       "      <td>73.847017</td>\n",
       "      <td>241.893563</td>\n",
       "    </tr>\n",
       "    <tr>\n",
       "      <th>1</th>\n",
       "      <td>Male</td>\n",
       "      <td>68.781904</td>\n",
       "      <td>162.310473</td>\n",
       "    </tr>\n",
       "    <tr>\n",
       "      <th>2</th>\n",
       "      <td>Male</td>\n",
       "      <td>74.110105</td>\n",
       "      <td>212.740856</td>\n",
       "    </tr>\n",
       "    <tr>\n",
       "      <th>3</th>\n",
       "      <td>Male</td>\n",
       "      <td>71.730978</td>\n",
       "      <td>220.042470</td>\n",
       "    </tr>\n",
       "    <tr>\n",
       "      <th>4</th>\n",
       "      <td>Male</td>\n",
       "      <td>69.881796</td>\n",
       "      <td>206.349801</td>\n",
       "    </tr>\n",
       "  </tbody>\n",
       "</table>\n",
       "</div>"
      ],
      "text/plain": [
       "  Gender     Height      Weight\n",
       "0   Male  73.847017  241.893563\n",
       "1   Male  68.781904  162.310473\n",
       "2   Male  74.110105  212.740856\n",
       "3   Male  71.730978  220.042470\n",
       "4   Male  69.881796  206.349801"
      ]
     },
     "execution_count": 2,
     "metadata": {},
     "output_type": "execute_result"
    }
   ],
   "source": [
    "df=pd.read_csv('ML 10_weight-height.csv')\n",
    "df.head()"
   ]
  },
  {
   "cell_type": "code",
   "execution_count": 3,
   "id": "c33106e5",
   "metadata": {},
   "outputs": [
    {
     "name": "stdout",
     "output_type": "stream",
     "text": [
      "<class 'pandas.core.frame.DataFrame'>\n",
      "RangeIndex: 8555 entries, 0 to 8554\n",
      "Data columns (total 3 columns):\n",
      " #   Column  Non-Null Count  Dtype  \n",
      "---  ------  --------------  -----  \n",
      " 0   Gender  8555 non-null   object \n",
      " 1   Height  8555 non-null   float64\n",
      " 2   Weight  8555 non-null   float64\n",
      "dtypes: float64(2), object(1)\n",
      "memory usage: 200.6+ KB\n"
     ]
    }
   ],
   "source": [
    "df.info()"
   ]
  },
  {
   "cell_type": "markdown",
   "id": "7c8b04a9",
   "metadata": {},
   "source": [
    "# ----- Encoding (using Label Encoder) ----"
   ]
  },
  {
   "cell_type": "code",
   "execution_count": 4,
   "id": "5e7ffe3a",
   "metadata": {},
   "outputs": [
    {
     "data": {
      "text/html": [
       "<div>\n",
       "<style scoped>\n",
       "    .dataframe tbody tr th:only-of-type {\n",
       "        vertical-align: middle;\n",
       "    }\n",
       "\n",
       "    .dataframe tbody tr th {\n",
       "        vertical-align: top;\n",
       "    }\n",
       "\n",
       "    .dataframe thead th {\n",
       "        text-align: right;\n",
       "    }\n",
       "</style>\n",
       "<table border=\"1\" class=\"dataframe\">\n",
       "  <thead>\n",
       "    <tr style=\"text-align: right;\">\n",
       "      <th></th>\n",
       "      <th>Gender</th>\n",
       "      <th>Height</th>\n",
       "      <th>Weight</th>\n",
       "    </tr>\n",
       "  </thead>\n",
       "  <tbody>\n",
       "    <tr>\n",
       "      <th>0</th>\n",
       "      <td>1</td>\n",
       "      <td>73.847017</td>\n",
       "      <td>241.893563</td>\n",
       "    </tr>\n",
       "    <tr>\n",
       "      <th>1</th>\n",
       "      <td>1</td>\n",
       "      <td>68.781904</td>\n",
       "      <td>162.310473</td>\n",
       "    </tr>\n",
       "    <tr>\n",
       "      <th>2</th>\n",
       "      <td>1</td>\n",
       "      <td>74.110105</td>\n",
       "      <td>212.740856</td>\n",
       "    </tr>\n",
       "    <tr>\n",
       "      <th>3</th>\n",
       "      <td>1</td>\n",
       "      <td>71.730978</td>\n",
       "      <td>220.042470</td>\n",
       "    </tr>\n",
       "    <tr>\n",
       "      <th>4</th>\n",
       "      <td>1</td>\n",
       "      <td>69.881796</td>\n",
       "      <td>206.349801</td>\n",
       "    </tr>\n",
       "  </tbody>\n",
       "</table>\n",
       "</div>"
      ],
      "text/plain": [
       "   Gender     Height      Weight\n",
       "0       1  73.847017  241.893563\n",
       "1       1  68.781904  162.310473\n",
       "2       1  74.110105  212.740856\n",
       "3       1  71.730978  220.042470\n",
       "4       1  69.881796  206.349801"
      ]
     },
     "execution_count": 4,
     "metadata": {},
     "output_type": "execute_result"
    }
   ],
   "source": [
    "from sklearn.preprocessing import LabelEncoder\n",
    "le=LabelEncoder()\n",
    "df.Gender=le.fit_transform(df.Gender)\n",
    "df.head()\n",
    "#df.info()"
   ]
  },
  {
   "cell_type": "markdown",
   "id": "e589885a",
   "metadata": {},
   "source": [
    "# 2. Spperate x(Gender, Height) and y(weight)"
   ]
  },
  {
   "cell_type": "code",
   "execution_count": 5,
   "id": "8d443709",
   "metadata": {},
   "outputs": [],
   "source": [
    "x=df.drop('Weight', axis=1)\n",
    "y=df['Weight']"
   ]
  },
  {
   "cell_type": "markdown",
   "id": "56b5335a",
   "metadata": {},
   "source": [
    "# 3. Split Data (   Train = 70% , Test -= 30%   )"
   ]
  },
  {
   "cell_type": "code",
   "execution_count": 6,
   "id": "c4e678c7",
   "metadata": {},
   "outputs": [],
   "source": [
    "from sklearn.model_selection import train_test_split\n",
    "xtrain, xtest, ytrain, ytest = train_test_split(x,y,train_size=.70,random_state=42)"
   ]
  },
  {
   "cell_type": "markdown",
   "id": "4ba648da",
   "metadata": {},
   "source": [
    "# 4. Apply Linear Regression"
   ]
  },
  {
   "cell_type": "code",
   "execution_count": 7,
   "id": "e0428a74",
   "metadata": {},
   "outputs": [
    {
     "data": {
      "text/plain": [
       "LinearRegression()"
      ]
     },
     "execution_count": 7,
     "metadata": {},
     "output_type": "execute_result"
    }
   ],
   "source": [
    "from sklearn.linear_model import LinearRegression\n",
    "lr=LinearRegression()\n",
    "lr.fit(xtrain,ytrain)"
   ]
  },
  {
   "cell_type": "markdown",
   "id": "364d411a",
   "metadata": {},
   "source": [
    "# 5. Evaluate Linear Regression Model (Accuracy, MSE, MAE)"
   ]
  },
  {
   "cell_type": "code",
   "execution_count": 8,
   "id": "a263e0de",
   "metadata": {},
   "outputs": [],
   "source": [
    "pred_lr=lr.predict(xtest)"
   ]
  },
  {
   "cell_type": "code",
   "execution_count": 9,
   "id": "c127beab",
   "metadata": {},
   "outputs": [
    {
     "data": {
      "text/plain": [
       "0.905911242442266"
      ]
     },
     "execution_count": 9,
     "metadata": {},
     "output_type": "execute_result"
    }
   ],
   "source": [
    "lr.score(xtest,ytest)                              # Accuracy of the LR"
   ]
  },
  {
   "cell_type": "code",
   "execution_count": 10,
   "id": "db75aea9",
   "metadata": {},
   "outputs": [
    {
     "data": {
      "text/plain": [
       "96.83734437830606"
      ]
     },
     "execution_count": 10,
     "metadata": {},
     "output_type": "execute_result"
    }
   ],
   "source": [
    "from sklearn.metrics import mean_squared_error       #  MSE of the LR\n",
    "mse_lr = mean_squared_error(ytest, pred_lr)\n",
    "mse_lr"
   ]
  },
  {
   "cell_type": "code",
   "execution_count": 11,
   "id": "de1dcc47",
   "metadata": {},
   "outputs": [
    {
     "data": {
      "text/plain": [
       "7.870097130738319"
      ]
     },
     "execution_count": 11,
     "metadata": {},
     "output_type": "execute_result"
    }
   ],
   "source": [
    "from sklearn.metrics import mean_absolute_error       #  MAE of the LR\n",
    "mae_lr = mean_absolute_error(ytest,pred_lr)\n",
    "mae_lr"
   ]
  },
  {
   "cell_type": "markdown",
   "id": "0f17bcab",
   "metadata": {},
   "source": [
    "# 6. Apply KNN Regressor"
   ]
  },
  {
   "cell_type": "code",
   "execution_count": 12,
   "id": "f5ee1d01",
   "metadata": {},
   "outputs": [
    {
     "data": {
      "text/plain": [
       "0.8821086423439015"
      ]
     },
     "execution_count": 12,
     "metadata": {},
     "output_type": "execute_result"
    }
   ],
   "source": [
    "from sklearn.neighbors import KNeighborsRegressor\n",
    "knn_r = KNeighborsRegressor()\n",
    "knn_r.fit(xtrain,ytrain)\n",
    "knn_r.score(xtest,ytest)"
   ]
  },
  {
   "cell_type": "markdown",
   "id": "bc34c7e8",
   "metadata": {},
   "source": [
    "# 7. Evaluate KNN Regression Model (Accuracy, MSE, MAE)"
   ]
  },
  {
   "cell_type": "code",
   "execution_count": 13,
   "id": "919fc1da",
   "metadata": {},
   "outputs": [],
   "source": [
    "pred_knn_r=knn_r.predict(xtest)"
   ]
  },
  {
   "cell_type": "code",
   "execution_count": 14,
   "id": "c5c3f01d",
   "metadata": {},
   "outputs": [
    {
     "data": {
      "text/plain": [
       "0.8821086423439015"
      ]
     },
     "execution_count": 14,
     "metadata": {},
     "output_type": "execute_result"
    }
   ],
   "source": [
    "knn_r.score(xtest,ytest)                        # Accuracy Test"
   ]
  },
  {
   "cell_type": "code",
   "execution_count": 15,
   "id": "f1ff7754",
   "metadata": {},
   "outputs": [
    {
     "data": {
      "text/plain": [
       "121.33528273624482"
      ]
     },
     "execution_count": 15,
     "metadata": {},
     "output_type": "execute_result"
    }
   ],
   "source": [
    "mse_knn_r=mean_squared_error(ytest,pred_knn_r)    # MSE of the KNN\n",
    "mse_knn_r"
   ]
  },
  {
   "cell_type": "code",
   "execution_count": 16,
   "id": "53b7b534",
   "metadata": {},
   "outputs": [
    {
     "data": {
      "text/plain": [
       "8.809865583894819"
      ]
     },
     "execution_count": 16,
     "metadata": {},
     "output_type": "execute_result"
    }
   ],
   "source": [
    "mae_knn_r=mean_absolute_error(ytest,pred_knn_r)     # MAE of the KNN\n",
    "mae_knn_r"
   ]
  },
  {
   "cell_type": "markdown",
   "id": "12f283f7",
   "metadata": {},
   "source": [
    "# Tuning"
   ]
  },
  {
   "cell_type": "markdown",
   "id": "ab66052e",
   "metadata": {},
   "source": [
    "# 1. Apply Randomized Search CV to Select the best K value"
   ]
  },
  {
   "cell_type": "code",
   "execution_count": 17,
   "id": "6c84232c",
   "metadata": {},
   "outputs": [],
   "source": [
    "K=np.random.randint(5,30,5)\n",
    "Weight = ['uniform', 'distance']\n",
    "Algorithm = ['auto', 'ball_tree', 'kd_tree', 'brute']\n",
    "Leaf_size = np.random.randint(5,50,5)\n",
    "P = [1,2]"
   ]
  },
  {
   "cell_type": "code",
   "execution_count": 18,
   "id": "6aba4757",
   "metadata": {},
   "outputs": [],
   "source": [
    "ids={\n",
    "    'n_neighbors' : K,\n",
    "    'weights' : Weight,\n",
    "    'algorithm' : Algorithm,\n",
    "    'leaf_size' : Leaf_size,\n",
    "    'p' : P\n",
    "}"
   ]
  },
  {
   "cell_type": "code",
   "execution_count": 19,
   "id": "397b0b10",
   "metadata": {},
   "outputs": [
    {
     "data": {
      "text/plain": [
       "0.8921070877137424"
      ]
     },
     "execution_count": 19,
     "metadata": {},
     "output_type": "execute_result"
    }
   ],
   "source": [
    "from sklearn.model_selection import RandomizedSearchCV\n",
    "rscv=RandomizedSearchCV(knn_r,ids,n_iter=150,cv=3)\n",
    "rscv.fit(xtrain,ytrain)\n",
    "rscv.best_score_"
   ]
  },
  {
   "cell_type": "code",
   "execution_count": 20,
   "id": "7c9ebc47",
   "metadata": {},
   "outputs": [
    {
     "data": {
      "text/plain": [
       "{'weights': 'uniform',\n",
       " 'p': 1,\n",
       " 'n_neighbors': 23,\n",
       " 'leaf_size': 45,\n",
       " 'algorithm': 'kd_tree'}"
      ]
     },
     "execution_count": 20,
     "metadata": {},
     "output_type": "execute_result"
    }
   ],
   "source": [
    "rscv.best_params_     "
   ]
  },
  {
   "cell_type": "markdown",
   "id": "81854af8",
   "metadata": {},
   "source": [
    "# Using Best Parameters"
   ]
  },
  {
   "cell_type": "code",
   "execution_count": 21,
   "id": "c9d0640b",
   "metadata": {},
   "outputs": [
    {
     "data": {
      "text/plain": [
       "0.9018971380116633"
      ]
     },
     "execution_count": 21,
     "metadata": {},
     "output_type": "execute_result"
    }
   ],
   "source": [
    "knn_r_T = KNeighborsRegressor(n_neighbors = 25, weights= 'uniform',algorithm = 'brute',leaf_size = 13, p=1  )\n",
    "knn_r_T.fit(xtrain,ytrain) \n",
    "knn_r_T.score(xtest,ytest)\n",
    "knn_r_T.fit(xtrain,ytrain) \n",
    "knn_r_T.score(xtest,ytest)"
   ]
  },
  {
   "cell_type": "markdown",
   "id": "a7f239a5",
   "metadata": {},
   "source": [
    "# 2. Compare Accuracy with default KNN & After Tuning K value"
   ]
  },
  {
   "cell_type": "code",
   "execution_count": 22,
   "id": "0a24177c",
   "metadata": {},
   "outputs": [
    {
     "data": {
      "text/plain": [
       "0.019788495667761752"
      ]
     },
     "execution_count": 22,
     "metadata": {},
     "output_type": "execute_result"
    }
   ],
   "source": [
    "knn_r_T.score(xtest,ytest) - knn_r.score(xtest,ytest)"
   ]
  },
  {
   "cell_type": "markdown",
   "id": "239b1306",
   "metadata": {},
   "source": [
    "# 3. Evaluate Model (Accuracy, MSE, MAE) and compare with old KNN model and Linear Regression as well"
   ]
  },
  {
   "cell_type": "markdown",
   "id": "d40eb337",
   "metadata": {},
   "source": [
    "# Evaluate the Tuned KNN model"
   ]
  },
  {
   "cell_type": "code",
   "execution_count": 23,
   "id": "43f6931c",
   "metadata": {},
   "outputs": [
    {
     "data": {
      "text/plain": [
       "0.9018971380116633"
      ]
     },
     "execution_count": 23,
     "metadata": {},
     "output_type": "execute_result"
    }
   ],
   "source": [
    "knn_r_T.score(xtest,ytest)                                     # Accuracy of the Tuned KNN model"
   ]
  },
  {
   "cell_type": "code",
   "execution_count": 24,
   "id": "d7badef7",
   "metadata": {},
   "outputs": [
    {
     "data": {
      "text/plain": [
       "100.968711644775"
      ]
     },
     "execution_count": 24,
     "metadata": {},
     "output_type": "execute_result"
    }
   ],
   "source": [
    "pred_knn_r_T=knn_r_T.predict(xtest)\n",
    "mse_knn_r_T = mean_squared_error(ytest , knn_r_T.predict(xtest))   # MSE of the Tuned KNN\n",
    "mse_knn_r_T"
   ]
  },
  {
   "cell_type": "code",
   "execution_count": 25,
   "id": "ef55ea24",
   "metadata": {},
   "outputs": [
    {
     "data": {
      "text/plain": [
       "8.040950615418621"
      ]
     },
     "execution_count": 25,
     "metadata": {},
     "output_type": "execute_result"
    }
   ],
   "source": [
    "mae_knn_r_T = mean_absolute_error(ytest , knn_r_T.predict(xtest))   # MAE of the Tuned KNN\n",
    "mae_knn_r_T"
   ]
  },
  {
   "cell_type": "markdown",
   "id": "2343f877",
   "metadata": {},
   "source": [
    "# compare with old KNN model and Linear Regression as well"
   ]
  },
  {
   "cell_type": "code",
   "execution_count": 26,
   "id": "52d4711f",
   "metadata": {},
   "outputs": [
    {
     "data": {
      "text/plain": [
       "-0.023802600098364435"
      ]
     },
     "execution_count": 26,
     "metadata": {},
     "output_type": "execute_result"
    }
   ],
   "source": [
    "knn_r.score(xtest,ytest) -  lr.score(xtest,ytest)        # Difference Between Accuracy of the Tuned KNN & Linear Regression"
   ]
  },
  {
   "cell_type": "code",
   "execution_count": 27,
   "id": "419e20ac",
   "metadata": {},
   "outputs": [
    {
     "data": {
      "text/plain": [
       "24.497938357938764"
      ]
     },
     "execution_count": 27,
     "metadata": {},
     "output_type": "execute_result"
    }
   ],
   "source": [
    "mse_knn_r - mse_lr                                        # Difference of MSE Between KNN & Linear Regression"
   ]
  },
  {
   "cell_type": "code",
   "execution_count": 28,
   "id": "13216dad",
   "metadata": {},
   "outputs": [
    {
     "data": {
      "text/plain": [
       "0.9397684531564998"
      ]
     },
     "execution_count": 28,
     "metadata": {},
     "output_type": "execute_result"
    }
   ],
   "source": [
    "mae_knn_r - mae_lr                                        # Difference of MAE Between KNN & Linear Regression"
   ]
  },
  {
   "cell_type": "markdown",
   "id": "b6c77bb2",
   "metadata": {},
   "source": [
    "# Step 02:"
   ]
  },
  {
   "cell_type": "markdown",
   "id": "6907f8ae",
   "metadata": {},
   "source": [
    "# 1. Import Data Set"
   ]
  },
  {
   "cell_type": "code",
   "execution_count": 29,
   "id": "291930ae",
   "metadata": {},
   "outputs": [],
   "source": [
    "import pandas as pd\n",
    "import numpy as np"
   ]
  },
  {
   "cell_type": "code",
   "execution_count": 30,
   "id": "447486f3",
   "metadata": {},
   "outputs": [
    {
     "data": {
      "text/html": [
       "<div>\n",
       "<style scoped>\n",
       "    .dataframe tbody tr th:only-of-type {\n",
       "        vertical-align: middle;\n",
       "    }\n",
       "\n",
       "    .dataframe tbody tr th {\n",
       "        vertical-align: top;\n",
       "    }\n",
       "\n",
       "    .dataframe thead th {\n",
       "        text-align: right;\n",
       "    }\n",
       "</style>\n",
       "<table border=\"1\" class=\"dataframe\">\n",
       "  <thead>\n",
       "    <tr style=\"text-align: right;\">\n",
       "      <th></th>\n",
       "      <th>Gender</th>\n",
       "      <th>Height</th>\n",
       "      <th>Weight</th>\n",
       "    </tr>\n",
       "  </thead>\n",
       "  <tbody>\n",
       "    <tr>\n",
       "      <th>0</th>\n",
       "      <td>Male</td>\n",
       "      <td>73.847017</td>\n",
       "      <td>241.893563</td>\n",
       "    </tr>\n",
       "    <tr>\n",
       "      <th>1</th>\n",
       "      <td>Male</td>\n",
       "      <td>68.781904</td>\n",
       "      <td>162.310473</td>\n",
       "    </tr>\n",
       "    <tr>\n",
       "      <th>2</th>\n",
       "      <td>Male</td>\n",
       "      <td>74.110105</td>\n",
       "      <td>212.740856</td>\n",
       "    </tr>\n",
       "    <tr>\n",
       "      <th>3</th>\n",
       "      <td>Male</td>\n",
       "      <td>71.730978</td>\n",
       "      <td>220.042470</td>\n",
       "    </tr>\n",
       "    <tr>\n",
       "      <th>4</th>\n",
       "      <td>Male</td>\n",
       "      <td>69.881796</td>\n",
       "      <td>206.349801</td>\n",
       "    </tr>\n",
       "  </tbody>\n",
       "</table>\n",
       "</div>"
      ],
      "text/plain": [
       "  Gender     Height      Weight\n",
       "0   Male  73.847017  241.893563\n",
       "1   Male  68.781904  162.310473\n",
       "2   Male  74.110105  212.740856\n",
       "3   Male  71.730978  220.042470\n",
       "4   Male  69.881796  206.349801"
      ]
     },
     "execution_count": 30,
     "metadata": {},
     "output_type": "execute_result"
    }
   ],
   "source": [
    "df2=pd.read_csv('ML 10_weight-height.csv')\n",
    "df2.head()"
   ]
  },
  {
   "cell_type": "code",
   "execution_count": 31,
   "id": "82b9452f",
   "metadata": {},
   "outputs": [],
   "source": [
    "#df2.info()"
   ]
  },
  {
   "cell_type": "markdown",
   "id": "eba77491",
   "metadata": {},
   "source": [
    "# 2. Seperate x and y   (y=Gender)"
   ]
  },
  {
   "cell_type": "code",
   "execution_count": 32,
   "id": "81a29dd1",
   "metadata": {},
   "outputs": [],
   "source": [
    "x2=df2.drop('Gender',axis=1)\n",
    "y2=df2['Gender']"
   ]
  },
  {
   "cell_type": "markdown",
   "id": "c1471ab4",
   "metadata": {},
   "source": [
    "# 3. Split Data (   Train = 70% , Test -= 30%   )"
   ]
  },
  {
   "cell_type": "code",
   "execution_count": 33,
   "id": "a045dbd7",
   "metadata": {},
   "outputs": [],
   "source": [
    "from sklearn.model_selection import train_test_split\n",
    "xtrain2, xtest2, ytrain2, ytest2 = train_test_split(x2,y2,train_size=.70,random_state=42)"
   ]
  },
  {
   "cell_type": "markdown",
   "id": "f49f0eee",
   "metadata": {},
   "source": [
    "# 4. Apply KNN Classifier"
   ]
  },
  {
   "cell_type": "code",
   "execution_count": 34,
   "id": "5b037ad4",
   "metadata": {},
   "outputs": [
    {
     "data": {
      "text/plain": [
       "KNeighborsClassifier()"
      ]
     },
     "execution_count": 34,
     "metadata": {},
     "output_type": "execute_result"
    }
   ],
   "source": [
    "from sklearn.neighbors import KNeighborsClassifier\n",
    "knn_clf = KNeighborsClassifier()\n",
    "knn_clf.fit(xtrain2,ytrain2)"
   ]
  },
  {
   "cell_type": "markdown",
   "id": "688b0dfc",
   "metadata": {},
   "source": [
    "# 5. Evaluate Model (Accuracy, Confusion Matrix, ROC, AUC, Classification Report)"
   ]
  },
  {
   "cell_type": "code",
   "execution_count": 35,
   "id": "0ac407c5",
   "metadata": {},
   "outputs": [],
   "source": [
    "from sklearn.metrics import accuracy_score, confusion_matrix, plot_roc_curve , roc_auc_score, classification_report\n",
    "pred_knn_clf=knn_clf.predict(xtest2) "
   ]
  },
  {
   "cell_type": "markdown",
   "id": "111c7f8e",
   "metadata": {},
   "source": [
    "#                               Accuracy: KNN Clasifier"
   ]
  },
  {
   "cell_type": "code",
   "execution_count": 36,
   "id": "67bd2a45",
   "metadata": {},
   "outputs": [
    {
     "data": {
      "text/plain": [
       "0.9131281651733542"
      ]
     },
     "execution_count": 36,
     "metadata": {},
     "output_type": "execute_result"
    }
   ],
   "source": [
    "knn_clf.score(xtest2,ytest2)             "
   ]
  },
  {
   "cell_type": "code",
   "execution_count": 37,
   "id": "8bfe5129",
   "metadata": {},
   "outputs": [
    {
     "data": {
      "text/plain": [
       "0.9131281651733542"
      ]
     },
     "execution_count": 37,
     "metadata": {},
     "output_type": "execute_result"
    }
   ],
   "source": [
    "#    or\n",
    "ac=accuracy_score(ytest2,pred_knn_clf)\n",
    "ac"
   ]
  },
  {
   "cell_type": "markdown",
   "id": "ffdb420e",
   "metadata": {},
   "source": [
    "# Confusion Matrix"
   ]
  },
  {
   "cell_type": "code",
   "execution_count": 38,
   "id": "10adb140",
   "metadata": {},
   "outputs": [
    {
     "data": {
      "text/plain": [
       "array([[ 945,  121],\n",
       "       [ 102, 1399]], dtype=int64)"
      ]
     },
     "execution_count": 38,
     "metadata": {},
     "output_type": "execute_result"
    }
   ],
   "source": [
    "conmat=confusion_matrix(ytest2,pred_knn_clf)\n",
    "conmat"
   ]
  },
  {
   "cell_type": "code",
   "execution_count": 39,
   "id": "18ce52e0",
   "metadata": {},
   "outputs": [
    {
     "data": {
      "text/plain": [
       "<AxesSubplot:>"
      ]
     },
     "execution_count": 39,
     "metadata": {},
     "output_type": "execute_result"
    },
    {
     "data": {
      "image/png": "[encoded data removed]",
      "text/plain": [
       "<Figure size 432x288 with 2 Axes>"
      ]
     },
     "metadata": {
      "needs_background": "light"
     },
     "output_type": "display_data"
    }
   ],
   "source": [
    "import seaborn as sns\n",
    "sns.heatmap(conmat,annot=True,fmt='d')"
   ]
  },
  {
   "cell_type": "markdown",
   "id": "64dc74ac",
   "metadata": {},
   "source": [
    "# ROC   &   AUC"
   ]
  },
  {
   "cell_type": "code",
   "execution_count": 40,
   "id": "b2be994d",
   "metadata": {},
   "outputs": [
    {
     "data": {
      "text/plain": [
       "[<matplotlib.lines.Line2D at 0x22f01084790>]"
      ]
     },
     "execution_count": 40,
     "metadata": {},
     "output_type": "execute_result"
    },
    {
     "data": {
      "image/png": "[encoded data removed]",
      "text/plain": [
       "<Figure size 432x288 with 1 Axes>"
      ]
     },
     "metadata": {
      "needs_background": "light"
     },
     "output_type": "display_data"
    }
   ],
   "source": [
    "import matplotlib.pyplot as plt\n",
    "plot_roc_curve(knn_clf,xtest2,ytest2)\n",
    "plt.plot([0,1],[0,1])"
   ]
  },
  {
   "cell_type": "markdown",
   "id": "e6fcab0b",
   "metadata": {},
   "source": [
    "# Classification Report"
   ]
  },
  {
   "cell_type": "code",
   "execution_count": 41,
   "id": "96f14546",
   "metadata": {
    "scrolled": true
   },
   "outputs": [
    {
     "name": "stdout",
     "output_type": "stream",
     "text": [
      "              precision    recall  f1-score   support\n",
      "\n",
      "      Female       0.90      0.89      0.89      1066\n",
      "        Male       0.92      0.93      0.93      1501\n",
      "\n",
      "    accuracy                           0.91      2567\n",
      "   macro avg       0.91      0.91      0.91      2567\n",
      "weighted avg       0.91      0.91      0.91      2567\n",
      "\n"
     ]
    }
   ],
   "source": [
    "print(classification_report(ytest2,pred_knn_clf))"
   ]
  },
  {
   "cell_type": "code",
   "execution_count": null,
   "id": "71b5dbbf",
   "metadata": {},
   "outputs": [],
   "source": []
  }
 ],
 "metadata": {
  "kernelspec": {
   "display_name": "Python 3 (ipykernel)",
   "language": "python",
   "name": "python3"
  },
  "language_info": {
   "codemirror_mode": {
    "name": "ipython",
    "version": 3
   },
   "file_extension": ".py",
   "mimetype": "text/x-python",
   "name": "python",
   "nbconvert_exporter": "python",
   "pygments_lexer": "ipython3",
   "version": "3.9.7"
  }
 },
 "nbformat": 4,
 "nbformat_minor": 5
}
